{
  "cells": [
    {
      "cell_type": "markdown",
      "id": "ded6d662",
      "metadata": {
        "id": "ded6d662"
      },
      "source": [
        "# Question 1"
      ]
    },
    {
      "cell_type": "code",
      "execution_count": 1,
      "id": "42313510",
      "metadata": {
        "colab": {
          "base_uri": "https://localhost:8080/"
        },
        "id": "42313510",
        "outputId": "ec8ba579-e001-41d6-c0a3-7fa9fd8e0414"
      },
      "outputs": [
        {
          "output_type": "stream",
          "name": "stdout",
          "text": [
            "<class 'int'>\n",
            "<class 'float'>\n",
            "<class 'bool'>\n",
            "<class 'str'>\n",
            "<class 'int'>\n",
            "<class 'str'>\n",
            "<class 'str'>\n",
            "<class 'float'>\n",
            "<class 'int'>\n",
            "<class 'set'>\n",
            "<class 'bool'>\n",
            "<class 'float'>\n"
          ]
        }
      ],
      "source": [
        "a=5\n",
        "b=5.0\n",
        "c=5>1\n",
        "x='5'\n",
        "y=5 * 2\n",
        "z='5' * 2\n",
        "k='5' + '2'\n",
        "l=5 / 2\n",
        "m=5 % 2\n",
        "n={5, 2, 1}\n",
        "o=5 == 3\n",
        "import math\n",
        "print(type(a))\n",
        "print(type(b))\n",
        "print(type(c))\n",
        "print(type(x))\n",
        "print(type(y))\n",
        "print(type(z))\n",
        "print(type(k))\n",
        "print(type(l))\n",
        "print(type(m))\n",
        "print(type(n))\n",
        "print(type(o))\n",
        "print(type(math.pi))"
      ]
    },
    {
      "cell_type": "markdown",
      "id": "cd03abd6",
      "metadata": {
        "id": "cd03abd6"
      },
      "source": [
        "# Question 2\n"
      ]
    },
    {
      "cell_type": "markdown",
      "id": "1d651d32",
      "metadata": {
        "id": "1d651d32"
      },
      "source": [
        "**2 a**"
      ]
    },
    {
      "cell_type": "code",
      "execution_count": null,
      "id": "e7afc24c",
      "metadata": {
        "id": "e7afc24c",
        "outputId": "84cb808f-61ac-4eee-b0c5-ddc392311adc"
      },
      "outputs": [
        {
          "name": "stdout",
          "output_type": "stream",
          "text": [
            "34\n",
            "True\n"
          ]
        }
      ],
      "source": [
        "A= 'Supercalifragilisticexpialidocious'\n",
        "print(len(A))\n"
      ]
    },
    {
      "cell_type": "markdown",
      "source": [
        "**2 b**"
      ],
      "metadata": {
        "id": "4yM2IrUx48mF"
      },
      "id": "4yM2IrUx48mF"
    },
    {
      "cell_type": "code",
      "source": [
        "A= 'Supercalifragilisticexpialidocious'\n",
        "print('ice' in A)"
      ],
      "metadata": {
        "colab": {
          "base_uri": "https://localhost:8080/"
        },
        "id": "sAx2gt6j5K5_",
        "outputId": "b773e088-e0f2-4dfc-9925-ec8922deffb3"
      },
      "id": "sAx2gt6j5K5_",
      "execution_count": 4,
      "outputs": [
        {
          "output_type": "stream",
          "name": "stdout",
          "text": [
            "True\n"
          ]
        }
      ]
    },
    {
      "cell_type": "markdown",
      "id": "c3f51f82",
      "metadata": {
        "id": "c3f51f82"
      },
      "source": [
        "### 2c - 'Supercalifragilisticexpialidocious' and 'Bababadalgharaghtakamminarronnkonn' is the longest"
      ]
    },
    {
      "cell_type": "code",
      "execution_count": 6,
      "id": "8f022839",
      "metadata": {
        "colab": {
          "base_uri": "https://localhost:8080/"
        },
        "id": "8f022839",
        "outputId": "ce627e35-4848-45e0-8ab4-ef8c6b10cb6a"
      },
      "outputs": [
        {
          "output_type": "stream",
          "name": "stdout",
          "text": [
            "34 28 34\n"
          ]
        }
      ],
      "source": [
        "W1= 'Supercalifragilisticexpialidocious'\n",
        "W2= ' Honorificabilitudinitatibus'\n",
        "W3= 'Bababadalgharaghtakamminarronnkonn'\n",
        "print(len(W1),len(W2),len(W3))"
      ]
    },
    {
      "cell_type": "markdown",
      "id": "7adaf19d",
      "metadata": {
        "id": "7adaf19d"
      },
      "source": [
        "### 2d"
      ]
    },
    {
      "cell_type": "code",
      "execution_count": null,
      "id": "ed161ea3",
      "metadata": {
        "id": "ed161ea3",
        "outputId": "94275f88-ac5c-4a82-f08c-7bb5db680546"
      },
      "outputs": [
        {
          "name": "stdout",
          "output_type": "stream",
          "text": [
            "['Bartok', 'Bellini', 'Berlioz', 'Bernstein', 'Borodin', 'Brian', 'Buxtehude']\n"
          ]
        }
      ],
      "source": [
        "words = ['Berlioz', 'Borodin', 'Brian','Bartok', 'Bellini', 'Buxtehude', 'Bernstein']\n",
        "words.sort()\n",
        "print(words)"
      ]
    },
    {
      "cell_type": "markdown",
      "source": [
        "Bartok comes first"
      ],
      "metadata": {
        "id": "ZwuyHOEV5mIr"
      },
      "id": "ZwuyHOEV5mIr"
    },
    {
      "cell_type": "markdown",
      "id": "16303fcd",
      "metadata": {
        "id": "16303fcd"
      },
      "source": [
        "# Question 3"
      ]
    },
    {
      "cell_type": "code",
      "execution_count": 14,
      "id": "8b7b290b",
      "metadata": {
        "colab": {
          "base_uri": "https://localhost:8080/"
        },
        "id": "8b7b290b",
        "outputId": "b80031d3-51d0-4d3b-9774-98f176298179"
      },
      "outputs": [
        {
          "output_type": "stream",
          "name": "stdout",
          "text": [
            "1.7320508075688772\n"
          ]
        }
      ],
      "source": [
        "import math\n",
        "def trianglearea(a,b,c):\n",
        "    s=(a+b+c)/2\n",
        "    area=math.sqrt((s*(s-a)*(s-b)*(s-c)))\n",
        "    return area\n",
        "\n",
        "print(trianglearea(2,2,2))"
      ]
    },
    {
      "cell_type": "markdown",
      "id": "5dc75dec",
      "metadata": {
        "id": "5dc75dec"
      },
      "source": [
        "# Question 4"
      ]
    },
    {
      "cell_type": "code",
      "execution_count": 10,
      "id": "85dd76e3",
      "metadata": {
        "colab": {
          "base_uri": "https://localhost:8080/"
        },
        "id": "85dd76e3",
        "outputId": "ca408c49-1784-49c5-e900-10f3c9e80879"
      },
      "outputs": [
        {
          "output_type": "stream",
          "name": "stdout",
          "text": [
            "Input the number of elements to be stored in the array : 5\n",
            "Input 5 Elements in the array\n",
            "Element - 0 :25\n",
            "Element - 1 :47\n",
            "Element - 2 :42\n",
            "Element - 3 :56\n",
            "Element - 4 :32\n",
            "The even Elements are: [42, 56, 32]\n",
            "The odd Elements are:  [25, 47]\n"
          ]
        }
      ],
      "source": [
        "def oddeven(num):\n",
        "   evennum = []\n",
        "   oddnum = []\n",
        "   for i in num:\n",
        "      if (i % 2 == 0):\n",
        "         evennum.append(i)\n",
        "      else:\n",
        "         oddnum.append(i)\n",
        "   print(\"The even Elements are:\", evennum)\n",
        "   print(\"The odd Elements are: \", oddnum)\n",
        "\n",
        "num=list()\n",
        "n=int(input(\"Input the number of elements to be stored in the array : \"))\n",
        "print(\"Input\", n ,\"Elements in the array\")\n",
        "for x in range(int(n)):\n",
        "   A=int(input(\"Element - {} :\".format(x)))\n",
        "   num.append(A)\n",
        "oddeven(num)"
      ]
    },
    {
      "cell_type": "markdown",
      "id": "d67b73cc",
      "metadata": {
        "id": "d67b73cc"
      },
      "source": [
        "# Question 5"
      ]
    },
    {
      "cell_type": "markdown",
      "id": "aa5ea543",
      "metadata": {
        "id": "aa5ea543"
      },
      "source": [
        "## Question 5a"
      ]
    },
    {
      "cell_type": "code",
      "execution_count": 22,
      "id": "0fe060ea",
      "metadata": {
        "id": "0fe060ea"
      },
      "outputs": [],
      "source": [
        "def inside(x,y,x1,y1,x2,y2):\n",
        "    if (x1 < x) and (x < x2) and (y1 < y) and (y < y2):\n",
        "        print(True)\n",
        "    else:\n",
        "        print(False)\n",
        "\n"
      ]
    },
    {
      "cell_type": "code",
      "execution_count": 23,
      "id": "8d2e8898",
      "metadata": {
        "colab": {
          "base_uri": "https://localhost:8080/"
        },
        "id": "8d2e8898",
        "outputId": "408a32ca-5976-4b0c-e059-055f420311a5"
      },
      "outputs": [
        {
          "output_type": "stream",
          "name": "stdout",
          "text": [
            "True\n"
          ]
        }
      ],
      "source": [
        "inside(1,1,0,0,2,3)"
      ]
    },
    {
      "cell_type": "code",
      "execution_count": 24,
      "id": "acc7e942",
      "metadata": {
        "colab": {
          "base_uri": "https://localhost:8080/"
        },
        "id": "acc7e942",
        "outputId": "c9b64cd2-89f3-4526-a74b-e850be4ae03d"
      },
      "outputs": [
        {
          "output_type": "stream",
          "name": "stdout",
          "text": [
            "False\n"
          ]
        }
      ],
      "source": [
        "inside(-1,-1,0,0,2,3)"
      ]
    },
    {
      "cell_type": "markdown",
      "id": "f8b2973d",
      "metadata": {
        "id": "f8b2973d"
      },
      "source": [
        "## Question 5b"
      ]
    },
    {
      "cell_type": "code",
      "execution_count": 42,
      "id": "eba98325",
      "metadata": {
        "colab": {
          "base_uri": "https://localhost:8080/"
        },
        "id": "eba98325",
        "outputId": "645039d8-9b5b-43a9-844d-904ea3fce85a"
      },
      "outputs": [
        {
          "output_type": "stream",
          "name": "stdout",
          "text": [
            "False The given point is not in both rectangles\n"
          ]
        }
      ],
      "source": [
        "def inside(x,y,x1,y1,x2,y2,x3,y3,x4,y4):\n",
        "    if (x1 < x < x2) and (y1 < y < y2) and (x3 < x < x4) and (y3 < y < y4):\n",
        "        print(True,\"The given point is in both rectangles\")\n",
        "    else:\n",
        "        print(False,\"The given point is not in both rectangles\")\n",
        "\n",
        "inside(1,1,0.3,0.5,1.1,0.7,0.5,0.2,1.1,2)\n",
        "\n"
      ]
    },
    {
      "cell_type": "markdown",
      "id": "888a869a",
      "metadata": {
        "id": "888a869a"
      },
      "source": [
        "# Question 6"
      ]
    },
    {
      "cell_type": "code",
      "execution_count": 44,
      "id": "8bc9e776",
      "metadata": {
        "colab": {
          "base_uri": "https://localhost:8080/"
        },
        "id": "8bc9e776",
        "outputId": "c0495d56-00dd-4e08-8993-7b4120afd226"
      },
      "outputs": [
        {
          "output_type": "stream",
          "name": "stdout",
          "text": [
            "appyhay\n",
            "enterway\n"
          ]
        }
      ],
      "source": [
        "def pig(text):\n",
        "  words = text.split()\n",
        "  for word in words:\n",
        "    endString = str(word[1:].lower())\n",
        "    vowel = \"aeiou\"\n",
        "    first=word[0].lower()\n",
        "    if first in vowel:\n",
        "        them = str(word[0:]).lower(), 'way'\n",
        "        word = ''.join(them)\n",
        "        return word\n",
        "    else:\n",
        "        them = endString, str(word[0:1]).lower(), 'ay'\n",
        "        word = ''.join(them)\n",
        "        return word\n",
        "\n",
        "print(pig(\"happy\"))\n",
        "print(pig(\"Enter\"))\n"
      ]
    },
    {
      "cell_type": "markdown",
      "id": "50806f63",
      "metadata": {
        "id": "50806f63"
      },
      "source": [
        "# Question 7"
      ]
    },
    {
      "cell_type": "code",
      "execution_count": 56,
      "id": "efd2777c",
      "metadata": {
        "colab": {
          "base_uri": "https://localhost:8080/"
        },
        "id": "efd2777c",
        "outputId": "c38babf0-0f8c-4855-c12c-68bb46f4bbc1"
      },
      "outputs": [
        {
          "output_type": "stream",
          "name": "stdout",
          "text": [
            "AB AB B O A A AB O AB A O O A A A O O O AB O A A A A A AB AB A AB O AB O A O O O AB O AB AB AB A A O \n",
            "\n",
            "There are  10  patients of blood type A\n",
            "There are  1  patients of blood type B\n",
            "There are  10  patients of blood type AB\n",
            "There are  12  patients of blood type O\n",
            "There are  0  patients of blood type OO\n"
          ]
        }
      ],
      "source": [
        "f = open('bloodtype1.txt')\n",
        "contents= f.read()\n",
        "\n",
        "#bloodtype A\n",
        "a = contents.count(\" A \")\n",
        "print (contents)\n",
        "print (\"There are \", a, \" patients of blood type A\")\n",
        "\n",
        "#bloodtype B\n",
        "b = contents.count(\" B \")\n",
        "print (\"There are \", b, \" patients of blood type B\")\n",
        "\n",
        "#bloodtype AB\n",
        "ab = contents.count(\" AB \")\n",
        "print (\"There are \", ab, \" patients of blood type AB\")\n",
        "\n",
        "#bloodtype O\n",
        "o = contents.count(\" O \")\n",
        "print (\"There are \", o, \" patients of blood type O\")\n",
        "\n",
        "#bloodtype OO\n",
        "oo = contents.count(\" OO \")\n",
        "print (\"There are \", oo, \" patients of blood type OO\")"
      ]
    },
    {
      "cell_type": "markdown",
      "id": "247b4e3e",
      "metadata": {
        "id": "247b4e3e"
      },
      "source": [
        "# Question 8"
      ]
    },
    {
      "cell_type": "code",
      "execution_count": 64,
      "id": "a458297f",
      "metadata": {
        "colab": {
          "base_uri": "https://localhost:8080/"
        },
        "id": "a458297f",
        "outputId": "6c68b63d-be0b-429a-8f61-f96b38521f25"
      },
      "outputs": [
        {
          "output_type": "stream",
          "name": "stdout",
          "text": [
            "122.96544\n",
            "1.241401\n"
          ]
        }
      ],
      "source": [
        "dictionary = {}\n",
        "file = open(\"currencies.txt\",\"r\")\n",
        "for line in file:\n",
        "\n",
        "    x = line.split(\"\\t\")\n",
        "\n",
        "    a=x[0]\n",
        "    b=x[1]\n",
        "    dictionary[a]=b\n",
        "\n",
        "def curconv(key,value):\n",
        "    c=float(dictionary[key])*value\n",
        "    return c\n",
        "\n",
        "print(curconv('EUR', 100))\n",
        "print(curconv('JPY', 100))\n",
        "\n"
      ]
    },
    {
      "cell_type": "markdown",
      "id": "1a3dcce6",
      "metadata": {
        "id": "1a3dcce6"
      },
      "source": [
        "# Question 9"
      ]
    },
    {
      "cell_type": "code",
      "execution_count": 68,
      "id": "6f1a96a9",
      "metadata": {
        "colab": {
          "base_uri": "https://localhost:8080/",
          "height": 141
        },
        "id": "6f1a96a9",
        "outputId": "0c4f4833-5792-4f08-e3c3-497b44921208"
      },
      "outputs": [
        {
          "output_type": "error",
          "ename": "TypeError",
          "evalue": "unsupported operand type(s) for +: 'int' and 'str'",
          "traceback": [
            "\u001b[0;31m---------------------------------------------------------------------------\u001b[0m",
            "\u001b[0;31mTypeError\u001b[0m                                 Traceback (most recent call last)",
            "\u001b[0;32m<ipython-input-68-7815ec48973b>\u001b[0m in \u001b[0;36m<cell line: 1>\u001b[0;34m()\u001b[0m\n\u001b[0;32m----> 1\u001b[0;31m \u001b[0;36m6\u001b[0m\u001b[0;34m+\u001b[0m\u001b[0;34m'a'\u001b[0m\u001b[0;34m\u001b[0m\u001b[0;34m\u001b[0m\u001b[0m\n\u001b[0m",
            "\u001b[0;31mTypeError\u001b[0m: unsupported operand type(s) for +: 'int' and 'str'"
          ]
        }
      ],
      "source": [
        "6+'a'"
      ]
    },
    {
      "cell_type": "code",
      "execution_count": 62,
      "id": "6d45215b",
      "metadata": {
        "colab": {
          "base_uri": "https://localhost:8080/",
          "height": 158
        },
        "id": "6d45215b",
        "outputId": "f5acf2a3-30c4-4264-caff-e4c72fc99cbd"
      },
      "outputs": [
        {
          "output_type": "error",
          "ename": "IndexError",
          "evalue": "list index out of range",
          "traceback": [
            "\u001b[0;31m---------------------------------------------------------------------------\u001b[0m",
            "\u001b[0;31mIndexError\u001b[0m                                Traceback (most recent call last)",
            "\u001b[0;32m<ipython-input-62-463c774581f3>\u001b[0m in \u001b[0;36m<cell line: 2>\u001b[0;34m()\u001b[0m\n\u001b[1;32m      1\u001b[0m \u001b[0mnum_list\u001b[0m \u001b[0;34m=\u001b[0m \u001b[0;34m[\u001b[0m\u001b[0;36m0\u001b[0m\u001b[0;34m,\u001b[0m\u001b[0;36m1\u001b[0m\u001b[0;34m,\u001b[0m \u001b[0;36m2\u001b[0m\u001b[0;34m,\u001b[0m \u001b[0;36m3\u001b[0m\u001b[0;34m,\u001b[0m \u001b[0;36m4\u001b[0m\u001b[0;34m,\u001b[0m \u001b[0;36m5\u001b[0m\u001b[0;34m,\u001b[0m \u001b[0;36m6\u001b[0m\u001b[0;34m,\u001b[0m \u001b[0;36m7\u001b[0m\u001b[0;34m,\u001b[0m \u001b[0;36m8\u001b[0m\u001b[0;34m,\u001b[0m \u001b[0;36m9\u001b[0m\u001b[0;34m,\u001b[0m \u001b[0;36m10\u001b[0m\u001b[0;34m]\u001b[0m\u001b[0;34m\u001b[0m\u001b[0;34m\u001b[0m\u001b[0m\n\u001b[0;32m----> 2\u001b[0;31m \u001b[0mprint\u001b[0m\u001b[0;34m(\u001b[0m\u001b[0mnum_list\u001b[0m\u001b[0;34m[\u001b[0m\u001b[0;36m12\u001b[0m\u001b[0;34m]\u001b[0m\u001b[0;34m)\u001b[0m\u001b[0;34m\u001b[0m\u001b[0;34m\u001b[0m\u001b[0m\n\u001b[0m",
            "\u001b[0;31mIndexError\u001b[0m: list index out of range"
          ]
        }
      ],
      "source": [
        "num_list = [0,1, 2, 3, 4, 5, 6, 7, 8, 9, 10]\n",
        "print(num_list[12])"
      ]
    },
    {
      "cell_type": "code",
      "execution_count": 61,
      "id": "542322e0",
      "metadata": {
        "colab": {
          "base_uri": "https://localhost:8080/",
          "height": 158
        },
        "id": "542322e0",
        "outputId": "4b555262-ee55-4108-ba16-db94a3110eee"
      },
      "outputs": [
        {
          "output_type": "error",
          "ename": "ValueError",
          "evalue": "math domain error",
          "traceback": [
            "\u001b[0;31m---------------------------------------------------------------------------\u001b[0m",
            "\u001b[0;31mValueError\u001b[0m                                Traceback (most recent call last)",
            "\u001b[0;32m<ipython-input-61-d39e523296ce>\u001b[0m in \u001b[0;36m<cell line: 2>\u001b[0;34m()\u001b[0m\n\u001b[1;32m      1\u001b[0m \u001b[0;32mimport\u001b[0m \u001b[0mmath\u001b[0m\u001b[0;34m\u001b[0m\u001b[0;34m\u001b[0m\u001b[0m\n\u001b[0;32m----> 2\u001b[0;31m \u001b[0mmath\u001b[0m\u001b[0;34m.\u001b[0m\u001b[0msqrt\u001b[0m\u001b[0;34m(\u001b[0m\u001b[0;34m-\u001b[0m\u001b[0;36m1.0\u001b[0m\u001b[0;34m)\u001b[0m\u001b[0;34m\u001b[0m\u001b[0;34m\u001b[0m\u001b[0m\n\u001b[0m",
            "\u001b[0;31mValueError\u001b[0m: math domain error"
          ]
        }
      ],
      "source": [
        "import math\n",
        "math.sqrt(-1.0)"
      ]
    },
    {
      "cell_type": "code",
      "execution_count": 63,
      "id": "ebbdabcb",
      "metadata": {
        "colab": {
          "base_uri": "https://localhost:8080/",
          "height": 141
        },
        "id": "ebbdabcb",
        "outputId": "674f29ae-3519-4619-fcd4-ba5b5c5bbaa7"
      },
      "outputs": [
        {
          "output_type": "error",
          "ename": "NameError",
          "evalue": "name 'absent' is not defined",
          "traceback": [
            "\u001b[0;31m---------------------------------------------------------------------------\u001b[0m",
            "\u001b[0;31mNameError\u001b[0m                                 Traceback (most recent call last)",
            "\u001b[0;32m<ipython-input-63-16fc8f2ad78f>\u001b[0m in \u001b[0;36m<cell line: 1>\u001b[0;34m()\u001b[0m\n\u001b[0;32m----> 1\u001b[0;31m \u001b[0mprint\u001b[0m\u001b[0;34m(\u001b[0m\u001b[0mabsent\u001b[0m\u001b[0;34m)\u001b[0m\u001b[0;34m\u001b[0m\u001b[0;34m\u001b[0m\u001b[0m\n\u001b[0m",
            "\u001b[0;31mNameError\u001b[0m: name 'absent' is not defined"
          ]
        }
      ],
      "source": [
        "\n",
        "print(absent)"
      ]
    },
    {
      "cell_type": "code",
      "execution_count": null,
      "id": "60495f30",
      "metadata": {
        "id": "60495f30",
        "outputId": "00afc4f7-0f92-4cb4-ae0e-bb539697d444"
      },
      "outputs": [
        {
          "ename": "FileNotFoundError",
          "evalue": "[Errno 2] No such file or directory: 'bloodtypo.txt'",
          "output_type": "error",
          "traceback": [
            "\u001b[1;31m---------------------------------------------------------------------------\u001b[0m",
            "\u001b[1;31mFileNotFoundError\u001b[0m                         Traceback (most recent call last)",
            "\u001b[1;32m~\\AppData\\Local\\Temp/ipykernel_4988/3737023380.py\u001b[0m in \u001b[0;36m<module>\u001b[1;34m\u001b[0m\n\u001b[1;32m----> 1\u001b[1;33m \u001b[0mf\u001b[0m \u001b[1;33m=\u001b[0m \u001b[0mopen\u001b[0m\u001b[1;33m(\u001b[0m\u001b[1;34m'bloodtypo.txt'\u001b[0m\u001b[1;33m)\u001b[0m\u001b[1;33m\u001b[0m\u001b[1;33m\u001b[0m\u001b[0m\n\u001b[0m",
            "\u001b[1;31mFileNotFoundError\u001b[0m: [Errno 2] No such file or directory: 'bloodtypo.txt'"
          ]
        }
      ],
      "source": [
        "f = open('bloodtypo.txt')"
      ]
    },
    {
      "cell_type": "markdown",
      "id": "dafb9f58",
      "metadata": {
        "id": "dafb9f58"
      },
      "source": [
        "# Question 10"
      ]
    },
    {
      "cell_type": "code",
      "execution_count": 65,
      "id": "f425bf09",
      "metadata": {
        "id": "f425bf09"
      },
      "outputs": [],
      "source": [
        "Alphabet = [\n",
        "    'a','b','c','d','e','f','g','h','i','j','k','l','m',\n",
        "    'n','o','p','q','r','s','t','u','v','w','x','y','z']\n",
        "\n",
        "def frequencies(word):\n",
        "    freq = []\n",
        "    sentence = word.lower()\n",
        "    for i in range(len(Alphabet)):\n",
        "        occurrence = sentence.count(Alphabet[i])\n",
        "        freq.append(occurrence)\n",
        "    return freq"
      ]
    },
    {
      "cell_type": "code",
      "execution_count": 69,
      "id": "1dde0409",
      "metadata": {
        "colab": {
          "base_uri": "https://localhost:8080/"
        },
        "id": "1dde0409",
        "outputId": "92a7ee0f-aa2e-4135-c054-9ba38cedb199"
      },
      "outputs": [
        {
          "output_type": "execute_result",
          "data": {
            "text/plain": [
              "[1, 1, 1, 3, 5, 1, 1, 2, 1, 0, 1, 0, 1, 2, 4, 0, 1, 2, 0, 3, 1, 0, 1, 1, 0, 0]"
            ]
          },
          "metadata": {},
          "execution_count": 69
        }
      ],
      "source": [
        "frequencies('The quick red fox got bored and went home.')"
      ]
    },
    {
      "cell_type": "code",
      "execution_count": 67,
      "id": "c31808fe",
      "metadata": {
        "colab": {
          "base_uri": "https://localhost:8080/"
        },
        "id": "c31808fe",
        "outputId": "14972243-1d69-41ed-d0c2-46f00b1e67e3"
      },
      "outputs": [
        {
          "output_type": "execute_result",
          "data": {
            "text/plain": [
              "[1, 0, 0, 0, 1, 0, 0, 0, 0, 0, 0, 1, 0, 0, 0, 2, 0, 0, 0, 0, 0, 0, 0, 0, 0, 0]"
            ]
          },
          "metadata": {},
          "execution_count": 67
        }
      ],
      "source": [
        "frequencies('apple')"
      ]
    }
  ],
  "metadata": {
    "kernelspec": {
      "display_name": "Python 3 (ipykernel)",
      "language": "python",
      "name": "python3"
    },
    "language_info": {
      "codemirror_mode": {
        "name": "ipython",
        "version": 3
      },
      "file_extension": ".py",
      "mimetype": "text/x-python",
      "name": "python",
      "nbconvert_exporter": "python",
      "pygments_lexer": "ipython3",
      "version": "3.9.7"
    },
    "colab": {
      "provenance": []
    }
  },
  "nbformat": 4,
  "nbformat_minor": 5
}